{
 "cells": [
  {
   "cell_type": "markdown",
   "metadata": {},
   "source": [
    "### #Program to fetch the item only within range between 50 and 70"
   ]
  },
  {
   "cell_type": "code",
   "execution_count": 61,
   "metadata": {},
   "outputs": [],
   "source": [
    "lst = [34,67,55,33,12,98]"
   ]
  },
  {
   "cell_type": "code",
   "execution_count": 62,
   "metadata": {},
   "outputs": [
    {
     "name": "stdout",
     "output_type": "stream",
     "text": [
      "67\n",
      "55\n"
     ]
    }
   ],
   "source": [
    "for i in lst:\n",
    "    if(50<i<70):\n",
    "        print(i)"
   ]
  },
  {
   "cell_type": "markdown",
   "metadata": {},
   "source": [
    "### #Program to print only String data type value from the given List"
   ]
  },
  {
   "cell_type": "code",
   "execution_count": 64,
   "metadata": {},
   "outputs": [],
   "source": [
    "lst = ['abc', 100, 10.10, True, 'Babu']"
   ]
  },
  {
   "cell_type": "code",
   "execution_count": 65,
   "metadata": {},
   "outputs": [
    {
     "name": "stdout",
     "output_type": "stream",
     "text": [
      "abc\n",
      "Babu\n"
     ]
    }
   ],
   "source": [
    "for i in lst:\n",
    "    if('str' in str(type(i))):\n",
    "        print(i)"
   ]
  },
  {
   "cell_type": "markdown",
   "metadata": {},
   "source": [
    "### #Program to replace only String values as none"
   ]
  },
  {
   "cell_type": "code",
   "execution_count": 2,
   "metadata": {},
   "outputs": [],
   "source": [
    "lst = ['abc', 100, 10.10, True, 'Babu']"
   ]
  },
  {
   "cell_type": "code",
   "execution_count": 3,
   "metadata": {},
   "outputs": [
    {
     "name": "stdout",
     "output_type": "stream",
     "text": [
      "[None, True, 10.1, 100, None]\n"
     ]
    }
   ],
   "source": [
    "lst1=[]\n",
    "j=0\n",
    "for i in lst:\n",
    "    if('str' in str(type(i))):\n",
    "        i = None\n",
    "        lst1.insert(j,i)\n",
    "    else:\n",
    "        lst1.insert(j,i)\n",
    "    j+1\n",
    "print(lst1)"
   ]
  },
  {
   "cell_type": "markdown",
   "metadata": {},
   "source": [
    "### #Program which accepts a sequence of comma-separated numbers from console and generate a list and a tuple which contains every number"
   ]
  },
  {
   "cell_type": "code",
   "execution_count": 4,
   "metadata": {},
   "outputs": [
    {
     "name": "stdout",
     "output_type": "stream",
     "text": [
      "Enter next value to insert: 34\n",
      "Enter next value to insert: 67\n",
      "Enter next value to insert: 55\n",
      "Enter next value to insert: 33\n",
      "Enter next value to insert: 12\n",
      "Enter next value to insert: 98\n",
      "['34', '67', '55', '33', '12', '98']\n",
      "('34', '67', '55', '33', '12', '98')\n"
     ]
    }
   ],
   "source": [
    "lst=[]\n",
    "tpl=()\n",
    "for j in range(6):\n",
    "    txt = input('Enter next value to insert: ')\n",
    "    lst.insert(j,txt)\n",
    "print(lst)\n",
    "tpl = tuple(lst)\n",
    "print(tpl)"
   ]
  },
  {
   "cell_type": "markdown",
   "metadata": {},
   "source": [
    "### #Program to print the first half values in one line and the last half values in one line"
   ]
  },
  {
   "cell_type": "code",
   "execution_count": 12,
   "metadata": {},
   "outputs": [],
   "source": [
    "lst = [1,2,3,4,5,6,7,8,9,10,11]"
   ]
  },
  {
   "cell_type": "code",
   "execution_count": 13,
   "metadata": {},
   "outputs": [
    {
     "name": "stdout",
     "output_type": "stream",
     "text": [
      "(1, 2, 3, 4, 5)\n",
      "(6, 7, 8, 9, 10, 11)\n"
     ]
    }
   ],
   "source": [
    "lst1=[]\n",
    "lst2=[]\n",
    "for i in lst:\n",
    "    if(i<=5):\n",
    "        lst1.append(i)\n",
    "    else:\n",
    "        lst2.append(i)\n",
    "print(tuple(lst1))\n",
    "print(tuple(lst2))"
   ]
  },
  {
   "cell_type": "markdown",
   "metadata": {},
   "source": [
    "### #Program to generate and print another tuple whose values are even numbers in the given tuple"
   ]
  },
  {
   "cell_type": "code",
   "execution_count": 7,
   "metadata": {},
   "outputs": [],
   "source": [
    "tpl = (1,2,3,4,5,6,7,8,9,10)"
   ]
  },
  {
   "cell_type": "code",
   "execution_count": 8,
   "metadata": {},
   "outputs": [
    {
     "name": "stdout",
     "output_type": "stream",
     "text": [
      "(2, 4, 6, 8, 10)\n"
     ]
    }
   ],
   "source": [
    "lst = list(tpl)\n",
    "lst1 = []\n",
    "for i in lst:\n",
    "    if(i%2==0):\n",
    "        lst1.append(i)\n",
    "print(tuple(lst1))"
   ]
  },
  {
   "cell_type": "markdown",
   "metadata": {},
   "source": [
    "### #Program to generate square of each number"
   ]
  },
  {
   "cell_type": "code",
   "execution_count": 9,
   "metadata": {},
   "outputs": [],
   "source": [
    "lst = [1,2,3,4,5,6,7]"
   ]
  },
  {
   "cell_type": "code",
   "execution_count": 11,
   "metadata": {},
   "outputs": [
    {
     "name": "stdout",
     "output_type": "stream",
     "text": [
      "[1, 4, 9, 16, 25, 36, 49]\n"
     ]
    }
   ],
   "source": [
    "lst1=[]\n",
    "for i in lst:\n",
    "    i = i*i\n",
    "    lst1.append(i)\n",
    "print(lst1)"
   ]
  },
  {
   "cell_type": "markdown",
   "metadata": {},
   "source": [
    "### #Swappping the names"
   ]
  },
  {
   "cell_type": "code",
   "execution_count": 79,
   "metadata": {},
   "outputs": [],
   "source": [
    "lst1 = [\"Hello\",\"Hi\"]\n",
    "lst2 = [\"Divya\",\"Sam\"]"
   ]
  },
  {
   "cell_type": "code",
   "execution_count": 80,
   "metadata": {},
   "outputs": [
    {
     "name": "stdout",
     "output_type": "stream",
     "text": [
      "['Hello Divya', 'Hello Sam', 'Hi Divya', 'Hi Sam']\n"
     ]
    }
   ],
   "source": [
    "lst = []\n",
    "intInsert = 0\n",
    "for i in lst1:\n",
    "    for j in lst2:\n",
    "        txt1 = i +\" \"+ j\n",
    "        lst.insert(intInsert,txt1)    \n",
    "        intInsert =  intInsert + 1\n",
    "print(lst)"
   ]
  },
  {
   "cell_type": "markdown",
   "metadata": {},
   "source": [
    "### #Printing the numbers 1"
   ]
  },
  {
   "cell_type": "code",
   "execution_count": 120,
   "metadata": {
    "scrolled": true
   },
   "outputs": [
    {
     "name": "stdout",
     "output_type": "stream",
     "text": [
      " \n",
      "1  \n",
      "2 2  \n",
      "3 3 3  \n",
      "4 4 4 4  \n",
      "5 5 5 5 5  \n"
     ]
    }
   ],
   "source": [
    "for i in range(6):\n",
    "    for j in range(i):\n",
    "        print(i,end=\" \")\n",
    "    print(\" \")"
   ]
  },
  {
   "cell_type": "markdown",
   "metadata": {},
   "source": [
    "### #Printing the numbers 2"
   ]
  },
  {
   "cell_type": "code",
   "execution_count": 124,
   "metadata": {
    "scrolled": true
   },
   "outputs": [
    {
     "name": "stdout",
     "output_type": "stream",
     "text": [
      "1  \n",
      "1 2  \n",
      "1 2 3  \n",
      "1 2 3 4  \n",
      "1 2 3 4 5  \n"
     ]
    }
   ],
   "source": [
    "for i in range(1,6):\n",
    "    for j in range(1,i+1):\n",
    "        print(j,end=\" \")\n",
    "    print(\" \")"
   ]
  },
  {
   "cell_type": "markdown",
   "metadata": {},
   "source": [
    "### #Reverse a String"
   ]
  },
  {
   "cell_type": "code",
   "execution_count": 146,
   "metadata": {},
   "outputs": [
    {
     "name": "stdout",
     "output_type": "stream",
     "text": [
      "Enter a value: Testing\n",
      "gnitseT\n"
     ]
    }
   ],
   "source": [
    "txt = input('Enter a value: ')\n",
    "textValue = \"\"\n",
    "for i in txt:\n",
    "    textValue = i + textValue\n",
    "print(textValue)"
   ]
  },
  {
   "cell_type": "markdown",
   "metadata": {},
   "source": [
    "### #concatenate 2 lists with index"
   ]
  },
  {
   "cell_type": "code",
   "execution_count": 166,
   "metadata": {},
   "outputs": [
    {
     "name": "stdout",
     "output_type": "stream",
     "text": [
      "['Welcome', 'to', 'Python', 'World']\n"
     ]
    }
   ],
   "source": [
    "lst = []\n",
    "lst1 = [\"Wel\",\"t\",\"Py\",\"Wor\"]\n",
    "lst2 = [\"come\",\"o\",\"thon\",\"ld\"]\n",
    "    \n",
    "intInsert = 0\n",
    "for i in lst1:\n",
    "    for j in lst2:\n",
    "        if(lst1.index(i) == lst2.index(j)):\n",
    "            txt1 = i + j\n",
    "            lst.insert(intInsert,txt1)    \n",
    "            intInsert =  intInsert + 1\n",
    "print(lst)\n",
    "    "
   ]
  }
 ],
 "metadata": {
  "kernelspec": {
   "display_name": "Python 3",
   "language": "python",
   "name": "python3"
  },
  "language_info": {
   "codemirror_mode": {
    "name": "ipython",
    "version": 3
   },
   "file_extension": ".py",
   "mimetype": "text/x-python",
   "name": "python",
   "nbconvert_exporter": "python",
   "pygments_lexer": "ipython3",
   "version": "3.8.3"
  }
 },
 "nbformat": 4,
 "nbformat_minor": 4
}
